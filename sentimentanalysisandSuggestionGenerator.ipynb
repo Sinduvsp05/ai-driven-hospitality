{
  "nbformat": 4,
  "nbformat_minor": 0,
  "metadata": {
    "colab": {
      "provenance": []
    },
    "kernelspec": {
      "name": "python3",
      "display_name": "Python 3"
    },
    "language_info": {
      "name": "python"
    }
  },
  "cells": [
    {
      "cell_type": "code",
      "source": [
        "pip install groq\n"
      ],
      "metadata": {
        "colab": {
          "base_uri": "https://localhost:8080/"
        },
        "id": "MQvGRoqBhRHN",
        "outputId": "8da62f15-ea4b-4089-c26d-52d4a849138d"
      },
      "execution_count": null,
      "outputs": [
        {
          "output_type": "stream",
          "name": "stdout",
          "text": [
            "Collecting groq\n",
            "  Downloading groq-0.13.1-py3-none-any.whl.metadata (14 kB)\n",
            "Requirement already satisfied: anyio<5,>=3.5.0 in /usr/local/lib/python3.10/dist-packages (from groq) (3.7.1)\n",
            "Requirement already satisfied: distro<2,>=1.7.0 in /usr/local/lib/python3.10/dist-packages (from groq) (1.9.0)\n",
            "Requirement already satisfied: httpx<1,>=0.23.0 in /usr/local/lib/python3.10/dist-packages (from groq) (0.28.1)\n",
            "Requirement already satisfied: pydantic<3,>=1.9.0 in /usr/local/lib/python3.10/dist-packages (from groq) (2.10.3)\n",
            "Requirement already satisfied: sniffio in /usr/local/lib/python3.10/dist-packages (from groq) (1.3.1)\n",
            "Requirement already satisfied: typing-extensions<5,>=4.10 in /usr/local/lib/python3.10/dist-packages (from groq) (4.12.2)\n",
            "Requirement already satisfied: idna>=2.8 in /usr/local/lib/python3.10/dist-packages (from anyio<5,>=3.5.0->groq) (3.10)\n",
            "Requirement already satisfied: exceptiongroup in /usr/local/lib/python3.10/dist-packages (from anyio<5,>=3.5.0->groq) (1.2.2)\n",
            "Requirement already satisfied: certifi in /usr/local/lib/python3.10/dist-packages (from httpx<1,>=0.23.0->groq) (2024.12.14)\n",
            "Requirement already satisfied: httpcore==1.* in /usr/local/lib/python3.10/dist-packages (from httpx<1,>=0.23.0->groq) (1.0.7)\n",
            "Requirement already satisfied: h11<0.15,>=0.13 in /usr/local/lib/python3.10/dist-packages (from httpcore==1.*->httpx<1,>=0.23.0->groq) (0.14.0)\n",
            "Requirement already satisfied: annotated-types>=0.6.0 in /usr/local/lib/python3.10/dist-packages (from pydantic<3,>=1.9.0->groq) (0.7.0)\n",
            "Requirement already satisfied: pydantic-core==2.27.1 in /usr/local/lib/python3.10/dist-packages (from pydantic<3,>=1.9.0->groq) (2.27.1)\n",
            "Downloading groq-0.13.1-py3-none-any.whl (109 kB)\n",
            "\u001b[?25l   \u001b[90m━━━━━━━━━━━━━━━━━━━━━━━━━━━━━━━━━━━━━━━━\u001b[0m \u001b[32m0.0/109.1 kB\u001b[0m \u001b[31m?\u001b[0m eta \u001b[36m-:--:--\u001b[0m\r\u001b[2K   \u001b[90m━━━━━━━━━━━━━━━━━━━━━━━━━━━━━━━━━━━━━━━━\u001b[0m \u001b[32m109.1/109.1 kB\u001b[0m \u001b[31m6.4 MB/s\u001b[0m eta \u001b[36m0:00:00\u001b[0m\n",
            "\u001b[?25hInstalling collected packages: groq\n",
            "Successfully installed groq-0.13.1\n"
          ]
        }
      ]
    },
    {
      "cell_type": "code",
      "source": [
        "import groq"
      ],
      "metadata": {
        "id": "IJ4fWE3Wjn8f"
      },
      "execution_count": null,
      "outputs": []
    },
    {
      "cell_type": "code",
      "source": [
        "import os\n",
        "import json\n",
        "from groq import Groq\n",
        "client = Groq(\n",
        "    api_key=\"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\",\n",
        ")\n"
      ],
      "metadata": {
        "id": "aeFyl231hazh"
      },
      "execution_count": null,
      "outputs": []
    },
    {
      "cell_type": "code",
      "source": [
        "text = \"Room os not clean\"\n",
        "chat_completion = client.chat.completions.create(\n",
        "messages=[\n",
        "    {\n",
        "        \"role\": \"user\",\n",
        "        \"content\": f\"Provide the sentiment for {text} as Positive or Negative\",\n",
        "    }\n",
        "],\n",
        "model=\"llama3-8b-8192\",\n",
        ")\n",
        "print(chat_completion.choices[0].message.content)\n"
      ],
      "metadata": {
        "colab": {
          "base_uri": "https://localhost:8080/"
        },
        "id": "A3EHFR1Ghooc",
        "outputId": "5c99fed9-c2db-4172-ea82-6245f8014ce0"
      },
      "execution_count": null,
      "outputs": [
        {
          "output_type": "stream",
          "name": "stdout",
          "text": [
            "The sentiment for \"Room is not clean\" would be Negative.\n"
          ]
        }
      ]
    },
    {
      "cell_type": "code",
      "source": [
        "text = \"choose airport hotel busy triparound australia arrived place rudest receptionist, corridors room looked like bombsite no warning room mid decoration.very expensive room service no mini bar.laundry crazy prices.no air gym.room key failed 6 times.airport shuttle driver 2 near misses dropped wrong terminal,\"\n",
        "\n",
        "chat_completion = client.chat.completions.create(\n",
        "messages=[\n",
        "    {\n",
        "        \"role\": \"system\",\n",
        "        \"content\": f\"You are the sentiment analyser who analyses the text and outputs the sentiment and the areas mentioned in text in JSON\"\n",
        "    f\"json object must have  schema :{json.dumps({'Sentiment':'Positive/Negative', 'Areas':[]})}\"\n",
        "      },\n",
        "    {\n",
        "        \"role\": \"user\",\n",
        "        \"content\": f\"\"\"\n",
        "    'The room was clean, but the dining service was slow.'output is: {json.dumps({'Sentiment':'Positive', 'Areas':['Room']})},\n",
        "    'Reception staff were extremely kind and helpful.Pool was clean'. output is: {json.dumps({'Sentiment':'Positive', 'Areas':['Reciption', \"pool\"]})},\n",
        "    {text} .The output is: \"\"\"\n",
        "    }\n",
        "],\n",
        "model=\"llama3-8b-8192\",\n",
        ")\n",
        "print(json.loads(chat_completion.choices[0].message.content))\n"
      ],
      "metadata": {
        "colab": {
          "base_uri": "https://localhost:8080/"
        },
        "id": "LDUHcUnGQ3pT",
        "outputId": "9c143417-5e19-4b92-9776-332d206884c2"
      },
      "execution_count": null,
      "outputs": [
        {
          "output_type": "stream",
          "name": "stdout",
          "text": [
            "{'Sentiment': 'Negative', 'Areas': ['Reception, Corridors, Room, Room Service, Mini Bar, Laundry, Gym, Airport Shuttle, Terminal']}\n"
          ]
        }
      ]
    },
    {
      "cell_type": "code",
      "source": [
        "import json\n",
        "\n",
        "def suggestion_generator(Sentiment_dict: dict, text: str):\n",
        "    chat_completion = client.chat.completions.create(\n",
        "        messages=[\n",
        "        {\n",
        "            \"role\":\"system\",\n",
        "            \"content\":f\"You are a suggestion provider who gives suggestion imporve areas mentioned by the help of review text and return area name and suggestion in JSON.\\n\"\n",
        "            f\"The JSON object must use the schema : {json.dumps({'Area':'Suggestion'})}\"\n",
        "        },\n",
        "        {\n",
        "            \"role\": \"user\",\n",
        "            \"content\": f\"Provide the Suggestion  to improve areas :{Sentiment_dict['Areas']} by analysing {text}\",\n",
        "        }\n",
        "    ],\n",
        "        model=\"llama3-8b-8192\",\n",
        "        response_format={\"type\": \"json_object\"}\n",
        "    )\n",
        "    return json.loads(chat_completion.choices[0].message.content)\n",
        "\n",
        "Sentiment_dict = {\n",
        "    'Areas': 'customer service'\n",
        "}\n",
        "text = \"The customer service was slow, and the agents were not helpful.\"\n",
        "\n",
        "response = suggestion_generator(Sentiment_dict, text)\n",
        "print(response)\n"
      ],
      "metadata": {
        "colab": {
          "base_uri": "https://localhost:8080/"
        },
        "id": "cAOfXUGvnmQ0",
        "outputId": "0063937f-3f3f-4515-c307-72a42ba2f553"
      },
      "execution_count": null,
      "outputs": [
        {
          "output_type": "stream",
          "name": "stdout",
          "text": [
            "{'Area': 'Customer Service Trainning', 'Suggestion': 'Provide regular training sessions to customer service agents to improve their communication skills and product knowledge, ensuring they can resolve customer issues efficiently and effectively.'}\n"
          ]
        }
      ]
    }
  ]
}